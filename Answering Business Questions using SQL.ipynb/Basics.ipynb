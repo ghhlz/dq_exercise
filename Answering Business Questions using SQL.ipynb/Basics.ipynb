{
 "cells": [
  {
   "cell_type": "code",
   "execution_count": 1,
   "metadata": {
    "collapsed": false
   },
   "outputs": [
    {
     "data": {
      "text/plain": [
       "'Connected: None@chinook.db'"
      ]
     },
     "execution_count": 1,
     "metadata": {},
     "output_type": "execute_result"
    }
   ],
   "source": [
    "%%capture\n",
    "%load_ext sql\n",
    "%sql sqlite:///chinook.db"
   ]
  },
  {
   "cell_type": "code",
   "execution_count": 2,
   "metadata": {
    "collapsed": false,
    "scrolled": true
   },
   "outputs": [
    {
     "name": "stdout",
     "output_type": "stream",
     "text": [
      "Done.\n"
     ]
    },
    {
     "data": {
      "text/html": [
       "<table>\n",
       "    <tr>\n",
       "        <th>artist</th>\n",
       "        <th>album</th>\n",
       "        <th>genre</th>\n",
       "        <th>num_sold</th>\n",
       "        <th>total_sales</th>\n",
       "    </tr>\n",
       "    <tr>\n",
       "        <td>Marvin Gaye</td>\n",
       "        <td>Seek And Shall Find: More Of The Best (1963-1981)</td>\n",
       "        <td>R&amp;B/Soul</td>\n",
       "        <td>26</td>\n",
       "        <td>387.09</td>\n",
       "    </tr>\n",
       "    <tr>\n",
       "        <td>Nirvana</td>\n",
       "        <td>From The Muddy Banks Of The Wishkah [live]</td>\n",
       "        <td>Rock</td>\n",
       "        <td>28</td>\n",
       "        <td>379.17</td>\n",
       "    </tr>\n",
       "    <tr>\n",
       "        <td>Jimi Hendrix</td>\n",
       "        <td>Are You Experienced?</td>\n",
       "        <td>Rock</td>\n",
       "        <td>28</td>\n",
       "        <td>370.26</td>\n",
       "    </tr>\n",
       "</table>"
      ],
      "text/plain": [
       "[('Marvin Gaye', 'Seek And Shall Find: More Of The Best (1963-1981)', 'R&B/Soul', 26, 387.09),\n",
       " ('Nirvana', 'From The Muddy Banks Of The Wishkah [live]', 'Rock', 28, 379.17),\n",
       " ('Jimi Hendrix', 'Are You Experienced?', 'Rock', 28, 370.26)]"
      ]
     },
     "execution_count": 2,
     "metadata": {},
     "output_type": "execute_result"
    }
   ],
   "source": [
    "%%sql\n",
    "WITH usa AS (\n",
    "SELECT * FROM invoice i\n",
    "WHERE billing_country = \"USA\"\n",
    "),\n",
    "usa_track AS (\n",
    "SELECT * FROM usa u\n",
    "INNER JOIN invoice_line il ON il.invoice_id = u.invoice_id)\n",
    "\n",
    "SELECT \n",
    "    ar.name artist,\n",
    "    al.title album,\n",
    "    g.name genre,\n",
    "    SUM(il.quantity) num_sold,\n",
    "    ROUND(SUM(u.total),2) total_sales\n",
    "FROM usa u\n",
    "INNER JOIN invoice_line il ON il.invoice_id = u.invoice_id\n",
    "INNER JOIN track t ON t.track_id = il.track_id\n",
    "INNER JOIN album al ON al.album_id = t.album_id\n",
    "INNER JOIN artist ar ON ar.artist_id = al.artist_id\n",
    "INNER JOIN genre g ON g.genre_id = t.genre_id\n",
    "GROUP BY 2\n",
    "ORDER BY 5 DESC\n",
    "LIMIT 3;"
   ]
  },
  {
   "cell_type": "code",
   "execution_count": 3,
   "metadata": {
    "collapsed": false
   },
   "outputs": [
    {
     "name": "stdout",
     "output_type": "stream",
     "text": [
      "Done.\n"
     ]
    },
    {
     "data": {
      "text/html": [
       "<table>\n",
       "    <tr>\n",
       "        <th>agent_name</th>\n",
       "        <th>title</th>\n",
       "        <th>hire_date</th>\n",
       "        <th>num_customers</th>\n",
       "        <th>total_dollars</th>\n",
       "        <th>qty_sales</th>\n",
       "        <th>sales_per_customer</th>\n",
       "    </tr>\n",
       "    <tr>\n",
       "        <td>Jane Peacock</td>\n",
       "        <td>Sales Support Agent</td>\n",
       "        <td>2017-04-01 00:00:00</td>\n",
       "        <td>21</td>\n",
       "        <td>18246.69</td>\n",
       "        <td>1749</td>\n",
       "        <td>868.89</td>\n",
       "    </tr>\n",
       "    <tr>\n",
       "        <td>Margaret Park</td>\n",
       "        <td>Sales Support Agent</td>\n",
       "        <td>2017-05-03 00:00:00</td>\n",
       "        <td>20</td>\n",
       "        <td>15923.16</td>\n",
       "        <td>1600</td>\n",
       "        <td>796.16</td>\n",
       "    </tr>\n",
       "    <tr>\n",
       "        <td>Steve Johnson</td>\n",
       "        <td>Sales Support Agent</td>\n",
       "        <td>2017-10-17 00:00:00</td>\n",
       "        <td>18</td>\n",
       "        <td>13333.32</td>\n",
       "        <td>1408</td>\n",
       "        <td>740.74</td>\n",
       "    </tr>\n",
       "</table>"
      ],
      "text/plain": [
       "[('Jane Peacock', 'Sales Support Agent', '2017-04-01 00:00:00', 21, 18246.69, 1749, 868.89),\n",
       " ('Margaret Park', 'Sales Support Agent', '2017-05-03 00:00:00', 20, 15923.16, 1600, 796.16),\n",
       " ('Steve Johnson', 'Sales Support Agent', '2017-10-17 00:00:00', 18, 13333.32, 1408, 740.74)]"
      ]
     },
     "execution_count": 3,
     "metadata": {},
     "output_type": "execute_result"
    }
   ],
   "source": [
    "%%sql\n",
    "SELECT \n",
    "    e.first_name || \" \" || e.last_name agent_name,\n",
    "    e.title,\n",
    "    e.hire_date,\n",
    "    COUNT(DISTINCT c.customer_id) num_customers,\n",
    "    ROUND(SUM(i.total),2) total_dollars,\n",
    "    SUM(il.quantity) qty_sales,\n",
    "    ROUND(ROUND(SUM(i.total),2)/ COUNT(DISTINCT c.customer_id),2) sales_per_customer\n",
    "FROM customer c\n",
    "INNER JOIN employee e ON e.employee_id = c.support_rep_id\n",
    "INNER JOIN invoice i ON i.customer_id = c.customer_id\n",
    "INNER JOIN invoice_line il on il.invoice_id = i.invoice_id\n",
    "GROUP BY 1;"
   ]
  },
  {
   "cell_type": "code",
   "execution_count": 4,
   "metadata": {
    "collapsed": false
   },
   "outputs": [
    {
     "name": "stdout",
     "output_type": "stream",
     "text": [
      "Done.\n"
     ]
    },
    {
     "data": {
      "text/html": [
       "<table>\n",
       "    <tr>\n",
       "        <th>country</th>\n",
       "        <th>No of Customers</th>\n",
       "        <th>Total Sales</th>\n",
       "        <th>Average Sales Value per Customer</th>\n",
       "        <th>Average Order</th>\n",
       "    </tr>\n",
       "    <tr>\n",
       "        <td>USA</td>\n",
       "        <td>13</td>\n",
       "        <td>1040.49</td>\n",
       "        <td>80.04</td>\n",
       "        <td>7.94</td>\n",
       "    </tr>\n",
       "    <tr>\n",
       "        <td>Canada</td>\n",
       "        <td>8</td>\n",
       "        <td>535.59</td>\n",
       "        <td>66.95</td>\n",
       "        <td>7.05</td>\n",
       "    </tr>\n",
       "    <tr>\n",
       "        <td>Brazil</td>\n",
       "        <td>5</td>\n",
       "        <td>427.68</td>\n",
       "        <td>85.54</td>\n",
       "        <td>7.01</td>\n",
       "    </tr>\n",
       "    <tr>\n",
       "        <td>France</td>\n",
       "        <td>5</td>\n",
       "        <td>389.07</td>\n",
       "        <td>77.81</td>\n",
       "        <td>7.78</td>\n",
       "    </tr>\n",
       "    <tr>\n",
       "        <td>Germany</td>\n",
       "        <td>4</td>\n",
       "        <td>334.62</td>\n",
       "        <td>83.66</td>\n",
       "        <td>8.16</td>\n",
       "    </tr>\n",
       "    <tr>\n",
       "        <td>Czech Republic</td>\n",
       "        <td>2</td>\n",
       "        <td>273.24</td>\n",
       "        <td>136.62</td>\n",
       "        <td>9.11</td>\n",
       "    </tr>\n",
       "    <tr>\n",
       "        <td>United Kingdom</td>\n",
       "        <td>3</td>\n",
       "        <td>245.52</td>\n",
       "        <td>81.84</td>\n",
       "        <td>8.77</td>\n",
       "    </tr>\n",
       "    <tr>\n",
       "        <td>Portugal</td>\n",
       "        <td>2</td>\n",
       "        <td>185.13</td>\n",
       "        <td>92.57</td>\n",
       "        <td>6.38</td>\n",
       "    </tr>\n",
       "    <tr>\n",
       "        <td>India</td>\n",
       "        <td>2</td>\n",
       "        <td>183.15</td>\n",
       "        <td>91.57</td>\n",
       "        <td>8.72</td>\n",
       "    </tr>\n",
       "    <tr>\n",
       "        <td>Other</td>\n",
       "        <td>15</td>\n",
       "        <td>1094.94</td>\n",
       "        <td>73.0</td>\n",
       "        <td>7.45</td>\n",
       "    </tr>\n",
       "</table>"
      ],
      "text/plain": [
       "[('USA', 13, 1040.49, 80.04, 7.94),\n",
       " ('Canada', 8, 535.59, 66.95, 7.05),\n",
       " ('Brazil', 5, 427.68, 85.54, 7.01),\n",
       " ('France', 5, 389.07, 77.81, 7.78),\n",
       " ('Germany', 4, 334.62, 83.66, 8.16),\n",
       " ('Czech Republic', 2, 273.24, 136.62, 9.11),\n",
       " ('United Kingdom', 3, 245.52, 81.84, 8.77),\n",
       " ('Portugal', 2, 185.13, 92.57, 6.38),\n",
       " ('India', 2, 183.15, 91.57, 8.72),\n",
       " ('Other', 15, 1094.94, 73.0, 7.45)]"
      ]
     },
     "execution_count": 4,
     "metadata": {},
     "output_type": "execute_result"
    }
   ],
   "source": [
    "%%sql\n",
    "WITH country_or_others AS \n",
    " (SELECT CASE \n",
    "          WHEN (\n",
    "              SELECT COUNT(*)\n",
    "              FROM customer\n",
    "              WHERE country= c.country\n",
    "              GROUP BY country) = 1 THEN 'Other'\n",
    "    ELSE c.country \n",
    "    END AS country,\n",
    "    i.*\n",
    "    FROM customer c\n",
    "    INNER JOIN invoice i ON c.customer_id = i.customer_id\n",
    "    )\n",
    "\n",
    "SELECT co.country, \n",
    "    COUNT(DISTINCT customer_id) 'No of Customers', \n",
    "    ROUND(CAST(SUM(total) AS FLOAT), 2) 'Total Sales',\n",
    "    ROUND(CAST(SUM(total) AS FLOAT) / COUNT(DISTINCT customer_id), 2) 'Average Sales Value per Customer',\n",
    "    ROUND(CAST(AVG(total) AS FLOAT), 2) 'Average Order'\n",
    "FROM (\n",
    "        SELECT cc.*,\n",
    "            CASE\n",
    "                WHEN country = 'Other' THEN 1\n",
    "                ELSE 0\n",
    "            END AS sort\n",
    "        FROM country_or_others cc\n",
    "    ) co\n",
    "\n",
    "GROUP BY country\n",
    "ORDER BY sort, 3 DESC;"
   ]
  },
  {
   "cell_type": "code",
   "execution_count": 13,
   "metadata": {
    "collapsed": false
   },
   "outputs": [
    {
     "name": "stdout",
     "output_type": "stream",
     "text": [
      "Done.\n"
     ]
    },
    {
     "data": {
      "text/html": [
       "<table>\n",
       "    <tr>\n",
       "        <th>purchase_type</th>\n",
       "        <th>invoice_count</th>\n",
       "        <th>percentage</th>\n",
       "    </tr>\n",
       "    <tr>\n",
       "        <td>Album</td>\n",
       "        <td>117</td>\n",
       "        <td>19.06%</td>\n",
       "    </tr>\n",
       "    <tr>\n",
       "        <td>Individual Tracks</td>\n",
       "        <td>497</td>\n",
       "        <td>80.94%</td>\n",
       "    </tr>\n",
       "</table>"
      ],
      "text/plain": [
       "[('Album', 117, '19.06%'), ('Individual Tracks', 497, '80.94%')]"
      ]
     },
     "execution_count": 13,
     "metadata": {},
     "output_type": "execute_result"
    }
   ],
   "source": [
    "%%sql\n",
    "WITH tracks_per_album AS\n",
    "(\n",
    "    SELECT a.album_id,\n",
    "    COUNT(t.track_id) track_count\n",
    "    FROM track t\n",
    "    INNER JOIN album a ON a.album_id = t.album_id\n",
    "    GROUP BY a.album_id\n",
    "),\n",
    "count_of_tracks AS\n",
    "(\n",
    "    SELECT il.invoice_id,\n",
    "    t.album_id,\n",
    "    COUNT(il.track_id) track_count\n",
    "    FROM track t \n",
    "    INNER JOIN invoice_line il ON il.track_id = t.track_id\n",
    "    GROUP BY invoice_id, album_id\n",
    ")\n",
    "\n",
    "SELECT purchase_type,\n",
    "       COUNT(DISTINCT il.invoice_id) invoice_count,\n",
    "       ROUND(CAST(COUNT(DISTINCT pt.invoice_id) AS FLOAT) / (\n",
    "                                                       SELECT COUNT(*) \n",
    "                                                       FROM invoice\n",
    "                                                             ) * 100, 2) || \"%\"percentage\n",
    "FROM \n",
    "(\n",
    "    SELECT il.invoice_id,\n",
    "       MIN(il.track_id),\n",
    "    CASE WHEN\n",
    "       ct.track_count = tpa.track_count THEN 'Album'\n",
    "    ELSE 'Individual Tracks'\n",
    "    END AS purchase_type\n",
    "    FROM invoice_line il\n",
    "    INNER JOIN count_of_tracks ct ON il.invoice_id = ct.invoice_id\n",
    "    INNER JOIN tracks_per_album tpa ON ct.album_id = tpa.album_id\n",
    "    GROUP BY il.invoice_id\n",
    ") AS pt\n",
    "       INNER JOIN invoice_line il ON il.invoice_id = pt.invoice_id\n",
    "    GROUP BY purchase_type;\n",
    "       "
   ]
  }
 ],
 "metadata": {
  "kernelspec": {
   "display_name": "Python 3",
   "language": "python",
   "name": "python3"
  },
  "language_info": {
   "codemirror_mode": {
    "name": "ipython",
    "version": 3
   },
   "file_extension": ".py",
   "mimetype": "text/x-python",
   "name": "python",
   "nbconvert_exporter": "python",
   "pygments_lexer": "ipython3",
   "version": "3.4.3"
  }
 },
 "nbformat": 4,
 "nbformat_minor": 2
}
